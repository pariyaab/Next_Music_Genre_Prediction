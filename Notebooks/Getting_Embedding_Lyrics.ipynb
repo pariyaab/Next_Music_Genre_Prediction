{
 "cells": [
  {
   "cell_type": "markdown",
   "metadata": {},
   "source": [
    "### In this file, I just tried to build a csv file, contains embedding of our users !"
   ]
  },
  {
   "cell_type": "code",
   "execution_count": 2,
   "metadata": {},
   "outputs": [],
   "source": [
    "import re\n",
    "import ast\n",
    "import warnings\n",
    "\n",
    "def extract_genres(s):\n",
    "    return re.findall(r'\\{([^}]+)\\}', s)"
   ]
  },
  {
   "cell_type": "code",
   "execution_count": 3,
   "metadata": {},
   "outputs": [],
   "source": [
    "def one_hot_encode_genre(genre, unique_genres):\n",
    "    \n",
    "    encoding = [0] * len(unique_genres)  \n",
    "    genre_index = unique_genres.index(genre) \n",
    "    encoding[genre_index] = 1 \n",
    "    return encoding"
   ]
  },
  {
   "cell_type": "code",
   "execution_count": 4,
   "metadata": {},
   "outputs": [],
   "source": [
    "specified_genres = ['Hip Hop', 'Pop', 'Rock', 'Electronic', 'Jazz']\n",
    "unique_genres = [\"Pop\", \"Rock\", \"Electronic\", \"Hip Hop\", \"Jazz\", \"Others\"]\n",
    "\n",
    "time_day = {\"00:00:00-6:00:00\": [1, 0, 0, 0], \"6:00:00-12:00:00\": [0, 1, 0, 0],\n",
    "            \"12:00:00-18:00:00\": [0, 0, 1, 0], \"18:00:00-00:00:00\": [0, 0, 0, 1]}"
   ]
  },
  {
   "cell_type": "code",
   "execution_count": 5,
   "metadata": {},
   "outputs": [],
   "source": [
    "# Function to encode time_day with one-hot vectors\n",
    "def encode_time_day(time_string):\n",
    "    \n",
    "    for interval, encoding in time_day.items():\n",
    "        \n",
    "        start, end = interval.split(\"-\")\n",
    "        if time_string >= start and time_string <= end:\n",
    "            \n",
    "            return encoding"
   ]
  },
  {
   "cell_type": "code",
   "execution_count": null,
   "metadata": {},
   "outputs": [],
   "source": [
    "from transformers import RobertaTokenizer, RobertaModel\n",
    "import string\n",
    "import torch\n",
    "\n",
    "warnings.filterwarnings('ignore')\n",
    "\n",
    "MODEL_NAME = \"roberta-base\"\n",
    "\n",
    "tokenizer = RobertaTokenizer.from_pretrained(MODEL_NAME)\n",
    "model = RobertaModel.from_pretrained(MODEL_NAME)\n",
    "\n",
    "\n",
    "def preprocess_lyrics(lyrics):\n",
    "  \n",
    "    lyrics = lyrics.lower()\n",
    "    lyrics = lyrics.translate(str.maketrans('', '', string.punctuation))\n",
    "    return lyrics\n",
    "\n",
    "\n",
    "lyrics_table = \"musics\"\n",
    "lyrics_column = \"cleaned_lyric\"\n",
    "\n",
    "\n",
    "query = f\"SELECT {lyrics_column}, author_id, disorder, created_at, timezone_offset, genres FROM {lyrics_table} WHERE {lyrics_column} IS NOT NULL AND genres IS NOT NULL AND cleaned_lyric != 'NA'\"\n",
    "\n",
    "\n",
    "lyrics_data = pd.read_sql_query(query, conn)\n",
    "\n",
    "lyrics_data['created_at'] = pd.to_datetime(lyrics_data['created_at'])\n",
    "lyrics_data['adjusted_created_at'] = (lyrics_data['created_at'] + pd.to_timedelta(lyrics_data['timezone_offset'], unit='s'))\n",
    "lyrics_data['time'] = pd.to_datetime(lyrics_data['adjusted_created_at']).dt.strftime('%H:%M:%S')\n",
    "\n",
    "\n",
    "# Sort by adjusted_created_at within each user group\n",
    "sorted_data = lyrics_data.sort_values(by=['author_id', 'adjusted_created_at'])\n",
    "\n",
    "\n",
    "model_name = 'roberta-base'\n",
    "tokenizer = RobertaTokenizer.from_pretrained(model_name)\n",
    "model = RobertaModel.from_pretrained(model_name)\n",
    "\n",
    "final_data = {\n",
    "    \n",
    "    \"author_id\" : [],\n",
    "    \"disorder\": [],\n",
    "    \"music_embedding\":[],\n",
    "    \"genre_embedding\":[]\n",
    "}\n",
    "\n",
    "def embed_lyrics(lyrics):\n",
    "    \n",
    "    inputs = tokenizer(lyrics, return_tensors=\"pt\", padding=True, truncation=True)\n",
    "    \n",
    "    with torch.no_grad():\n",
    "        outputs = model(**inputs)\n",
    "\n",
    "    embeddings = outputs.last_hidden_state.mean(dim=1)\n",
    "    return embeddings\n",
    "\n",
    "\n",
    "for index, users in sorted_data.iterrows():\n",
    "    \n",
    "    #Embedd the lyrics\n",
    "    music_lyric = users[\"cleaned_lyric\"]\n",
    "    embedded_lyric = embed_lyrics(music_lyric)\n",
    "    \n",
    "    #Embedd genres\n",
    "    genres_list = users[\"genres\"]\n",
    "\n",
    "    if genres_list.startswith('{') and genres_list.endswith('}'):\n",
    "        \n",
    "        author_musics_genres = extract_genres(genres_list)\n",
    "        cleaned_genres = [genre.replace(\"'\", \"\").replace('\"', '') for genre in author_musics_genres]\n",
    "    else:\n",
    "        cleaned_genres = [genre.strip(\"'\\\"\") for genre in genres_list.split(',')]\n",
    "        \n",
    "    matching_genres = [genre for genre in cleaned_genres if genre in specified_genres]\n",
    "    \n",
    "    genre = \"Others\"\n",
    "    if len(matching_genres) > 0:\n",
    "        genre = matching_genres[0]\n",
    "    encoded_genre = one_hot_encode_genre(genre, unique_genres)\n",
    "    \n",
    "    \n",
    "    #encode time of listening to music\n",
    "    time_encoded = encode_time_day(users['time'])\n",
    "\n",
    "    \n",
    "    final_data[\"author_id\"].append(users[\"author_id\"])\n",
    "    final_data[\"disorder\"].append(users[\"disorder\"])\n",
    "    \n",
    "    music_embedding = embedded_lyric.tolist()\n",
    "    music_embedding.extend(encoded_genre)\n",
    "    music_embedding.extend(time_encoded)\n",
    "    \n",
    "    final_data[\"music_embedding\"].append(music_embedding)\n",
    "    final_data[\"genre_embedding\"].append(encoded_genre)\n",
    "    \n",
    "    \n",
    "df = pd.DataFrame(final_data)\n",
    "\n",
    "df.to_csv('music_embedding.tsv', index=False)\n"
   ]
  },
  {
   "cell_type": "code",
   "execution_count": 8,
   "metadata": {},
   "outputs": [
    {
     "data": {
      "text/html": [
       "<div>\n",
       "<style scoped>\n",
       "    .dataframe tbody tr th:only-of-type {\n",
       "        vertical-align: middle;\n",
       "    }\n",
       "\n",
       "    .dataframe tbody tr th {\n",
       "        vertical-align: top;\n",
       "    }\n",
       "\n",
       "    .dataframe thead th {\n",
       "        text-align: right;\n",
       "    }\n",
       "</style>\n",
       "<table border=\"1\" class=\"dataframe\">\n",
       "  <thead>\n",
       "    <tr style=\"text-align: right;\">\n",
       "      <th></th>\n",
       "      <th>author_id</th>\n",
       "      <th>disorder</th>\n",
       "      <th>music_embedding</th>\n",
       "      <th>genre_embedding</th>\n",
       "    </tr>\n",
       "  </thead>\n",
       "  <tbody>\n",
       "    <tr>\n",
       "      <th>0</th>\n",
       "      <td>1000026915590189062</td>\n",
       "      <td>control</td>\n",
       "      <td>[-0.030979907140135765, 0.01254077535122633, 0...</td>\n",
       "      <td>[0, 0, 0, 0, 0, 1]</td>\n",
       "    </tr>\n",
       "    <tr>\n",
       "      <th>1</th>\n",
       "      <td>1000123379356233729</td>\n",
       "      <td>control</td>\n",
       "      <td>[0.007308566011488438, -0.03472823277115822, 0...</td>\n",
       "      <td>[1, 0, 0, 0, 0, 0]</td>\n",
       "    </tr>\n",
       "    <tr>\n",
       "      <th>2</th>\n",
       "      <td>1000123379356233729</td>\n",
       "      <td>control</td>\n",
       "      <td>[-0.017335733398795128, 0.05415014922618866, 0...</td>\n",
       "      <td>[0, 0, 0, 1, 0, 0]</td>\n",
       "    </tr>\n",
       "    <tr>\n",
       "      <th>3</th>\n",
       "      <td>1000123379356233729</td>\n",
       "      <td>control</td>\n",
       "      <td>[0.06611811369657516, 0.045194048434495926, 0....</td>\n",
       "      <td>[0, 0, 0, 0, 1, 0]</td>\n",
       "    </tr>\n",
       "    <tr>\n",
       "      <th>4</th>\n",
       "      <td>1000123379356233729</td>\n",
       "      <td>control</td>\n",
       "      <td>[0.005866596009582281, 0.06480590999126434, 0....</td>\n",
       "      <td>[0, 0, 0, 0, 0, 1]</td>\n",
       "    </tr>\n",
       "  </tbody>\n",
       "</table>\n",
       "</div>"
      ],
      "text/plain": [
       "             author_id disorder  \\\n",
       "0  1000026915590189062  control   \n",
       "1  1000123379356233729  control   \n",
       "2  1000123379356233729  control   \n",
       "3  1000123379356233729  control   \n",
       "4  1000123379356233729  control   \n",
       "\n",
       "                                     music_embedding     genre_embedding  \n",
       "0  [-0.030979907140135765, 0.01254077535122633, 0...  [0, 0, 0, 0, 0, 1]  \n",
       "1  [0.007308566011488438, -0.03472823277115822, 0...  [1, 0, 0, 0, 0, 0]  \n",
       "2  [-0.017335733398795128, 0.05415014922618866, 0...  [0, 0, 0, 1, 0, 0]  \n",
       "3  [0.06611811369657516, 0.045194048434495926, 0....  [0, 0, 0, 0, 1, 0]  \n",
       "4  [0.005866596009582281, 0.06480590999126434, 0....  [0, 0, 0, 0, 0, 1]  "
      ]
     },
     "execution_count": 8,
     "metadata": {},
     "output_type": "execute_result"
    }
   ],
   "source": [
    "df = pd.read_csv('music_embedding_2.tsv')\n",
    "df['music_embedding'] = df['music_embedding'].apply(ast.literal_eval)\n",
    "df.head()"
   ]
  },
  {
   "cell_type": "code",
   "execution_count": 12,
   "metadata": {},
   "outputs": [
    {
     "data": {
      "text/plain": [
       "1"
      ]
     },
     "execution_count": 12,
     "metadata": {},
     "output_type": "execute_result"
    }
   ],
   "source": [
    "len(df.iloc[:1][\"music_embedding\"])"
   ]
  },
  {
   "cell_type": "code",
   "execution_count": 7,
   "metadata": {},
   "outputs": [],
   "source": [
    "df = pd.read_csv('music_embedding.tsv')\n",
    "\n",
    "for index, row in df.iterrows():\n",
    "    \n",
    "    embedding_list = ast.literal_eval(row['music_embedding'])\n",
    "    first_element = embedding_list[0]\n",
    "    first_element.extend(embedding_list[1:]) \n",
    "    df.at[index, 'music_embedding'] = first_element\n",
    "\n",
    "df.to_csv('music_embedding_2.tsv', index=False)"
   ]
  }
 ],
 "metadata": {
  "kernelspec": {
   "display_name": "Python 3",
   "language": "python",
   "name": "python3"
  },
  "language_info": {
   "codemirror_mode": {
    "name": "ipython",
    "version": 3
   },
   "file_extension": ".py",
   "mimetype": "text/x-python",
   "name": "python",
   "nbconvert_exporter": "python",
   "pygments_lexer": "ipython3",
   "version": "3.7.10"
  }
 },
 "nbformat": 4,
 "nbformat_minor": 2
}
